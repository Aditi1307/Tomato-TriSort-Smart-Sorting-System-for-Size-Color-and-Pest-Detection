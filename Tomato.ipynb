{
 "cells": [
  {
   "cell_type": "code",
   "execution_count": 5,
   "id": "0685541f-d0ea-420d-9acd-6e0a0a8fa87b",
   "metadata": {},
   "outputs": [],
   "source": [
    "import numpy as np # linear algebra\n",
    "import pandas as pd # data processing, CSV file I/O (e.g. pd.read_csv)\n",
    "import os\n",
    "for dirname, _, filenames in os.walk('/kaggle/input'):\n",
    "    for filename in filenames:\n",
    "        print(os.path.join(dirname, filename))"
   ]
  },
  {
   "cell_type": "code",
   "execution_count": 6,
   "id": "ba93fee1-f922-47c3-8a53-1609821bdf44",
   "metadata": {},
   "outputs": [],
   "source": [
    "#OS libs\n",
    "import os\n",
    "import shutil\n",
    "import itertools\n",
    "import pathlib\n",
    "from PIL import Image\n",
    "\n",
    "#Data handling tools\n",
    "import cv2\n",
    "import matplotlib.pyplot as plt\n",
    "import numpy as np\n",
    "import pandas as pd\n",
    "import seaborn as sns\n",
    "sns.set_style('whitegrid')\n",
    "from sklearn.model_selection import train_test_split\n",
    "from sklearn.preprocessing import OneHotEncoder\n",
    "from sklearn.metrics import confusion_matrix , classification_report\n",
    "\n",
    "#Deep learning libs\n",
    "import tensorflow as tf\n",
    "from tensorflow import keras\n",
    "from tensorflow.keras.models import Sequential\n",
    "from tensorflow.keras.layers import Conv2D , MaxPooling2D , Flatten , Activation , Dense , Dropout , BatchNormalization\n",
    "from tensorflow.keras.preprocessing.image import ImageDataGenerator\n",
    "from tensorflow.keras.optimizers import Adam , Adamax\n",
    "from tensorflow.keras import regularizers\n",
    "\n",
    "#Warningds\n",
    "import warnings\n",
    "warnings.filterwarnings('ignore')\n"
   ]
  },
  {
   "cell_type": "code",
   "execution_count": 7,
   "id": "ef6703de-3edd-4582-8a5c-1aeb19060f1c",
   "metadata": {},
   "outputs": [
    {
     "ename": "FileNotFoundError",
     "evalue": "[WinError 3] The system cannot find the path specified: 'Tomato/Three Classes'",
     "output_type": "error",
     "traceback": [
      "\u001b[1;31m---------------------------------------------------------------------------\u001b[0m",
      "\u001b[1;31mFileNotFoundError\u001b[0m                         Traceback (most recent call last)",
      "Cell \u001b[1;32mIn[7], line 11\u001b[0m\n\u001b[0;32m      8\u001b[0m labels \u001b[38;5;241m=\u001b[39m []\n\u001b[0;32m     10\u001b[0m \u001b[38;5;66;03m# Get the list of folds (subdirectories) in train_data_path\u001b[39;00m\n\u001b[1;32m---> 11\u001b[0m folds \u001b[38;5;241m=\u001b[39m \u001b[43mos\u001b[49m\u001b[38;5;241;43m.\u001b[39;49m\u001b[43mlistdir\u001b[49m\u001b[43m(\u001b[49m\u001b[43mtrain_data_path\u001b[49m\u001b[43m)\u001b[49m\n\u001b[0;32m     13\u001b[0m \u001b[38;5;66;03m# Iterate through each fold\u001b[39;00m\n\u001b[0;32m     14\u001b[0m \u001b[38;5;28;01mfor\u001b[39;00m fold \u001b[38;5;129;01min\u001b[39;00m folds:\n\u001b[0;32m     15\u001b[0m     \u001b[38;5;66;03m# Get the full path of the fold\u001b[39;00m\n",
      "\u001b[1;31mFileNotFoundError\u001b[0m: [WinError 3] The system cannot find the path specified: 'Tomato/Three Classes'"
     ]
    }
   ],
   "source": [
    "import pandas as pd\n",
    "import os\n",
    "\n",
    "# Specify the local path where your data is stored\n",
    "train_data_path = r'Tomato/Three Classes'\n",
    "\n",
    "filepaths = []\n",
    "labels = []\n",
    "\n",
    "# Get the list of folds (subdirectories) in train_data_path\n",
    "folds = os.listdir(train_data_path)\n",
    "\n",
    "# Iterate through each fold\n",
    "for fold in folds:\n",
    "    # Get the full path of the fold\n",
    "    f_path = os.path.join(train_data_path, fold)\n",
    "    \n",
    "    # Get the list of files in the fold\n",
    "    filelists = os.listdir(f_path)\n",
    "    \n",
    "    # Iterate through each file in the fold\n",
    "    for file in filelists:\n",
    "        # Get the full path of the file\n",
    "        filepaths.append(os.path.join(f_path, file))\n",
    "        # Add the label (fold name) to the labels list\n",
    "        labels.append(fold)\n",
    "\n",
    "# Create a pandas Series for file paths and labels\n",
    "Fseries = pd.Series(filepaths, name='filepaths')\n",
    "Lseries = pd.Series(labels, name='label')\n",
    "\n",
    "# Concatenate the Series into a dataframe\n",
    "train_df = pd.concat([Fseries, Lseries], axis=1)\n",
    "\n",
    "# Write the dataframe to a CSV file\n",
    "output_file_path = 'train_data.csv'\n",
    "train_df.to_csv(output_file_path, index=False)\n"
   ]
  },
  {
   "cell_type": "code",
   "execution_count": null,
   "id": "b8d0944c-b096-487d-8381-e123d9a21055",
   "metadata": {},
   "outputs": [],
   "source": []
  }
 ],
 "metadata": {
  "kernelspec": {
   "display_name": "Python 3 (ipykernel)",
   "language": "python",
   "name": "python3"
  },
  "language_info": {
   "codemirror_mode": {
    "name": "ipython",
    "version": 3
   },
   "file_extension": ".py",
   "mimetype": "text/x-python",
   "name": "python",
   "nbconvert_exporter": "python",
   "pygments_lexer": "ipython3",
   "version": "3.12.2"
  }
 },
 "nbformat": 4,
 "nbformat_minor": 5
}
